{
 "cells": [
  {
   "cell_type": "code",
   "execution_count": 1,
   "metadata": {},
   "outputs": [],
   "source": [
    "import numpy as np\n",
    "import pandas as pd\n",
    "from sklearn.metrics.pairwise import cosine_similarity"
   ]
  },
  {
   "cell_type": "code",
   "execution_count": 2,
   "metadata": {},
   "outputs": [
    {
     "data": {
      "text/html": [
       "<div>\n",
       "<style scoped>\n",
       "    .dataframe tbody tr th:only-of-type {\n",
       "        vertical-align: middle;\n",
       "    }\n",
       "\n",
       "    .dataframe tbody tr th {\n",
       "        vertical-align: top;\n",
       "    }\n",
       "\n",
       "    .dataframe thead th {\n",
       "        text-align: right;\n",
       "    }\n",
       "</style>\n",
       "<table border=\"1\" class=\"dataframe\">\n",
       "  <thead>\n",
       "    <tr style=\"text-align: right;\">\n",
       "      <th></th>\n",
       "      <th>name</th>\n",
       "      <th>Meat</th>\n",
       "      <th>Chicken</th>\n",
       "      <th>Sugar</th>\n",
       "      <th>Tomato</th>\n",
       "      <th>Olive Oil</th>\n",
       "    </tr>\n",
       "  </thead>\n",
       "  <tbody>\n",
       "    <tr>\n",
       "      <th>0</th>\n",
       "      <td>Recipe 1</td>\n",
       "      <td>405</td>\n",
       "      <td>470</td>\n",
       "      <td>16</td>\n",
       "      <td>72</td>\n",
       "      <td>36</td>\n",
       "    </tr>\n",
       "    <tr>\n",
       "      <th>1</th>\n",
       "      <td>Recipe 2</td>\n",
       "      <td>309</td>\n",
       "      <td>387</td>\n",
       "      <td>38</td>\n",
       "      <td>119</td>\n",
       "      <td>27</td>\n",
       "    </tr>\n",
       "    <tr>\n",
       "      <th>2</th>\n",
       "      <td>Recipe 3</td>\n",
       "      <td>168</td>\n",
       "      <td>369</td>\n",
       "      <td>65</td>\n",
       "      <td>169</td>\n",
       "      <td>26</td>\n",
       "    </tr>\n",
       "    <tr>\n",
       "      <th>3</th>\n",
       "      <td>Recipe 4</td>\n",
       "      <td>199</td>\n",
       "      <td>233</td>\n",
       "      <td>25</td>\n",
       "      <td>206</td>\n",
       "      <td>39</td>\n",
       "    </tr>\n",
       "    <tr>\n",
       "      <th>4</th>\n",
       "      <td>Recipe 5</td>\n",
       "      <td>337</td>\n",
       "      <td>398</td>\n",
       "      <td>45</td>\n",
       "      <td>142</td>\n",
       "      <td>21</td>\n",
       "    </tr>\n",
       "  </tbody>\n",
       "</table>\n",
       "</div>"
      ],
      "text/plain": [
       "       name  Meat  Chicken  Sugar  Tomato  Olive Oil\n",
       "0  Recipe 1   405      470     16      72         36\n",
       "1  Recipe 2   309      387     38     119         27\n",
       "2  Recipe 3   168      369     65     169         26\n",
       "3  Recipe 4   199      233     25     206         39\n",
       "4  Recipe 5   337      398     45     142         21"
      ]
     },
     "execution_count": 2,
     "metadata": {},
     "output_type": "execute_result"
    }
   ],
   "source": [
    "# Create a DataFrame with 30 rows and the specified attributes\n",
    "data = {\n",
    "    \"name\": [f\"Recipe {i}\" for i in range(1, 51)],\n",
    "    \"Meat\": np.random.randint(100, 500, size=50),\n",
    "    \"Chicken\": np.random.randint(100, 500, size=50),\n",
    "    \"Sugar\": np.random.randint(10, 100, size=50),\n",
    "    \"Tomato\": np.random.randint(50, 300, size=50),\n",
    "    \"Olive Oil\": np.random.randint(10, 50, size=50)\n",
    "}\n",
    "\n",
    "recipe_map = pd.DataFrame(data)\n",
    "recipe_map.head()"
   ]
  },
  {
   "cell_type": "code",
   "execution_count": 3,
   "metadata": {},
   "outputs": [
    {
     "data": {
      "text/html": [
       "<div>\n",
       "<style scoped>\n",
       "    .dataframe tbody tr th:only-of-type {\n",
       "        vertical-align: middle;\n",
       "    }\n",
       "\n",
       "    .dataframe tbody tr th {\n",
       "        vertical-align: top;\n",
       "    }\n",
       "\n",
       "    .dataframe thead th {\n",
       "        text-align: right;\n",
       "    }\n",
       "</style>\n",
       "<table border=\"1\" class=\"dataframe\">\n",
       "  <thead>\n",
       "    <tr style=\"text-align: right;\">\n",
       "      <th></th>\n",
       "      <th>name</th>\n",
       "      <th>calories</th>\n",
       "    </tr>\n",
       "  </thead>\n",
       "  <tbody>\n",
       "    <tr>\n",
       "      <th>0</th>\n",
       "      <td>Recipe 1</td>\n",
       "      <td>794</td>\n",
       "    </tr>\n",
       "    <tr>\n",
       "      <th>1</th>\n",
       "      <td>Recipe 2</td>\n",
       "      <td>448</td>\n",
       "    </tr>\n",
       "    <tr>\n",
       "      <th>2</th>\n",
       "      <td>Recipe 3</td>\n",
       "      <td>310</td>\n",
       "    </tr>\n",
       "    <tr>\n",
       "      <th>3</th>\n",
       "      <td>Recipe 4</td>\n",
       "      <td>295</td>\n",
       "    </tr>\n",
       "    <tr>\n",
       "      <th>4</th>\n",
       "      <td>Recipe 5</td>\n",
       "      <td>365</td>\n",
       "    </tr>\n",
       "  </tbody>\n",
       "</table>\n",
       "</div>"
      ],
      "text/plain": [
       "       name  calories\n",
       "0  Recipe 1       794\n",
       "1  Recipe 2       448\n",
       "2  Recipe 3       310\n",
       "3  Recipe 4       295\n",
       "4  Recipe 5       365"
      ]
     },
     "execution_count": 3,
     "metadata": {},
     "output_type": "execute_result"
    }
   ],
   "source": [
    "# Generate a separate DataFrame for calorie values\n",
    "calories = np.random.randint(200, 800, size=50)  # Random calorie values for recipes\n",
    "recipe_calorie = pd.DataFrame({\n",
    "    \"name\": recipe_map[\"name\"],\n",
    "    \"calories\": calories\n",
    "})\n",
    "\n",
    "recipe_calorie.head()"
   ]
  },
  {
   "cell_type": "code",
   "execution_count": 4,
   "metadata": {},
   "outputs": [],
   "source": [
    "# Extract all columns except the first one (name) for similarity calculation\n",
    "ingredients = recipe_map.iloc[:, 1:]\n",
    "\n",
    "# Compute cosine similarity matrix\n",
    "similarity = cosine_similarity(ingredients)"
   ]
  },
  {
   "cell_type": "code",
   "execution_count": 5,
   "metadata": {},
   "outputs": [],
   "source": [
    "# Base recommendation function\n",
    "def recommend_similar_recipes(name, filter_func=None, top_n=10):\n",
    "    # Check if the recipe exists\n",
    "    if name not in recipe_map['name'].values:\n",
    "        return f\"Recipe '{name}' not found.\"\n",
    "    \n",
    "    # Get the index of the recipe\n",
    "    recipe_id = recipe_map[recipe_map['name'] == name].index[0]\n",
    "    \n",
    "    # Get similarity scores for the given recipe\n",
    "    sim_scores = list(enumerate(similarity[recipe_id]))\n",
    "    \n",
    "    # Sort scores in descending order of similarity\n",
    "    sim_scores = sorted(sim_scores, key=lambda x: x[1], reverse=True)\n",
    "    \n",
    "    # Get indices of top_n most similar recipes\n",
    "    sim_scores = sim_scores[1:]  # Exclude the recipe itself\n",
    "    \n",
    "    # Apply calorie filter if provided\n",
    "    if filter_func:\n",
    "        sim_scores = [score for score in sim_scores if filter_func(score[0])]\n",
    "    \n",
    "    # Get the top_n indices after filtering\n",
    "    sim_scores = sim_scores[:top_n]\n",
    "    recipe_indices = [i[0] for i in sim_scores]\n",
    "    \n",
    "    # Return the names of the recommended recipes\n",
    "    return recipe_map['name'].iloc[recipe_indices].tolist()\n",
    "\n",
    "# Recommendation function for higher calorie recipes\n",
    "def recommend_higher_calorie_recipe(name, top_n=10):\n",
    "    # Get the calorie value of the target recipe\n",
    "    target_calorie = recipe_calorie.loc[recipe_calorie['name'] == name, 'calories'].values[0]\n",
    "    return recommend_similar_recipes(name, filter_func=lambda idx: recipe_calorie.loc[idx, 'calories'] > target_calorie, top_n=top_n)\n",
    "\n",
    "# Recommendation function for lower calorie recipes\n",
    "def recommend_lower_calorie_recipe(name, top_n=10):\n",
    "    # Get the calorie value of the target recipe\n",
    "    target_calorie = recipe_calorie.loc[recipe_calorie['name'] == name, 'calories'].values[0]\n",
    "    return recommend_similar_recipes(name, filter_func=lambda idx: recipe_calorie.loc[idx, 'calories'] < target_calorie, top_n=top_n)\n"
   ]
  },
  {
   "cell_type": "code",
   "execution_count": 6,
   "metadata": {},
   "outputs": [
    {
     "name": "stdout",
     "output_type": "stream",
     "text": [
      "Similar recipes with higher calories:\n",
      "['Recipe 26']\n",
      "\n",
      "Similar recipes with lower calories:\n",
      "['Recipe 21', 'Recipe 28', 'Recipe 39', 'Recipe 29', 'Recipe 2']\n"
     ]
    }
   ],
   "source": [
    "# Test the recommender systems\n",
    "print(\"Similar recipes with higher calories:\")\n",
    "print(recommend_higher_calorie_recipe('Recipe 1', top_n=5))\n",
    "\n",
    "print(\"\\nSimilar recipes with lower calories:\")\n",
    "print(recommend_lower_calorie_recipe('Recipe 1', top_n=5))"
   ]
  },
  {
   "cell_type": "code",
   "execution_count": 8,
   "metadata": {},
   "outputs": [
    {
     "name": "stdout",
     "output_type": "stream",
     "text": [
      "\n",
      "Selected recipes:\n",
      "         name  Meat  Chicken  Sugar  Tomato  Olive Oil\n",
      "0    Recipe 1   405      470     16      72         36\n",
      "1    Recipe 2   309      387     38     119         27\n",
      "20  Recipe 21   427      435     54      79         14\n",
      "25  Recipe 26   415      251     36      61         27\n",
      "27  Recipe 28   396      395     14     112         35\n",
      "38  Recipe 39   344      393     24     119         15\n",
      "\n",
      "Selected calories:\n",
      "         name  calories\n",
      "0    Recipe 1       794\n",
      "1    Recipe 2       448\n",
      "20  Recipe 21       649\n",
      "25  Recipe 26       797\n",
      "27  Recipe 28       693\n",
      "38  Recipe 39       298\n"
     ]
    }
   ],
   "source": [
    "# Locate the rows of the specific recipes by their names\n",
    "recipes_to_check = ['Recipe 1', 'Recipe 26', 'Recipe 21', 'Recipe 28', 'Recipe 39', 'Recipe 2']\n",
    "selected_recipes = recipe_map.loc[recipe_map['name'].isin(recipes_to_check)]\n",
    "selected_calories = recipe_calorie.loc[recipe_calorie['name'].isin(recipes_to_check)]\n",
    "\n",
    "# Display the selected rows\n",
    "print(\"\\nSelected recipes:\")\n",
    "print(selected_recipes)\n",
    "\n",
    "print(\"\\nSelected calories:\")\n",
    "print(selected_calories)"
   ]
  }
 ],
 "metadata": {
  "kernelspec": {
   "display_name": "base",
   "language": "python",
   "name": "python3"
  },
  "language_info": {
   "codemirror_mode": {
    "name": "ipython",
    "version": 3
   },
   "file_extension": ".py",
   "mimetype": "text/x-python",
   "name": "python",
   "nbconvert_exporter": "python",
   "pygments_lexer": "ipython3",
   "version": "3.12.7"
  }
 },
 "nbformat": 4,
 "nbformat_minor": 2
}
