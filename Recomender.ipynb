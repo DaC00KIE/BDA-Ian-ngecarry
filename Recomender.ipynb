{
 "cells": [
  {
   "cell_type": "markdown",
   "metadata": {},
   "source": [
    "## Dietary Food Recomender System"
   ]
  },
  {
   "cell_type": "code",
   "execution_count": null,
   "metadata": {},
   "outputs": [],
   "source": [
    "# Import Library\n",
    "import numpy as np\n",
    "import pandas as pd\n",
    "from sklearn.metrics.pairwise import cosine_similarity"
   ]
  },
  {
   "cell_type": "code",
   "execution_count": null,
   "metadata": {},
   "outputs": [],
   "source": [
    "# Load Dataset\n",
    "df = pd.read_csv('cleaned.csv')\n",
    "df.head()"
   ]
  },
  {
   "cell_type": "code",
   "execution_count": null,
   "metadata": {},
   "outputs": [],
   "source": [
    "# Select All the Ingredients Columns\n",
    "ingredients = df.iloc[:, 8:]\n",
    "\n",
    "# Compute Cosine Similarity Matrix\n",
    "similarity = cosine_similarity(ingredients)"
   ]
  },
  {
   "cell_type": "code",
   "execution_count": null,
   "metadata": {},
   "outputs": [],
   "source": [
    "# Base Recommendation Function\n",
    "def recommend_similar_recipes(name, filter_func=None, top_n=10):\n",
    "    # Check if the Recipe Exists\n",
    "    if name not in df['name'].values:\n",
    "        return f\"Recipe '{name}' not found.\"\n",
    "    \n",
    "    # Get the Index of the Recipe\n",
    "    recipe_id = df[df['name'] == name].index[0]\n",
    "    \n",
    "    # Get Similarity Score for the Given Recipe\n",
    "    sim_scores = list(enumerate(similarity[recipe_id]))\n",
    "    \n",
    "    # Sort Scores in Descending Order of Similarity\n",
    "    sim_scores = sorted(sim_scores, key=lambda x: x[1], reverse=True)\n",
    "    \n",
    "    # Get Indices of top_n Most Similar Recipes\n",
    "    sim_scores = sim_scores[1:] # Exclude the recipe itself\n",
    "    \n",
    "    # Apply Calorie Filter if Provided\n",
    "    if filter_func:\n",
    "        sim_scores = [score for score in sim_scores if filter_func(score[0])]\n",
    "        \n",
    "    # Get the top_n Indices after Filtering\n",
    "    sim_scores = sim_scores[:top_n]\n",
    "    recipe_indices = [i[0] for i in sim_scores]\n",
    "    \n",
    "    # Return the names of the recommended recipes\n",
    "    return df['name'].iloc[recipe_indices].tolist()"
   ]
  },
  {
   "cell_type": "code",
   "execution_count": null,
   "metadata": {},
   "outputs": [],
   "source": [
    "# Recommendation Function for Higher Recommended Recipes\n",
    "def recommend_higher_calorie_recipe(name, top_n=10):\n",
    "    target_calorie = df.loc[df['name'] == name, 'calories'].values[0]\n",
    "    return recommend_similar_recipes(name, filter_func=lambda idx: df.iloc[idx, 'calories'] > target_calorie, top_n=top_n)\n",
    "\n",
    "# Recommendation Function for Lower Recommended Recipes\n",
    "def recommend_lower_calorie_recipe(name, top_n=10):\n",
    "    target_calorie = df.loc[df['name'] == name, 'calories'].values[0]\n",
    "    return recommend_similar_recipes(name, filter_func=lambda idx: df.iloc[idx, 'calories'] > target_calorie, top_n=top_n)"
   ]
  },
  {
   "cell_type": "code",
   "execution_count": null,
   "metadata": {},
   "outputs": [],
   "source": [
    "# Test the recommender systems\n",
    "print(\"Similar recipes with higher calories:\")\n",
    "print(recommend_higher_calorie_recipe('Fried Chicken', top_n=5))\n",
    "\n",
    "print(\"\\nSimilar recipes with lower calories:\")\n",
    "print(recommend_lower_calorie_recipe('sweet potato chips', top_n=5))"
   ]
  },
  {
   "cell_type": "code",
   "execution_count": null,
   "metadata": {},
   "outputs": [],
   "source": [
    "# Locate the rows of the specific recipes by their names\n",
    "recipes_to_check = ['Recipe 1', 'Recipe 26', 'Recipe 21', 'Recipe 28', 'Recipe 39', 'Recipe 2']\n",
    "selected_recipes = df.loc[df['name'].isin(recipes_to_check)]\n",
    "selected_calories = df.loc[df['name'].isin(recipes_to_check)]\n",
    "\n",
    "# Display the selected rows\n",
    "print(\"\\nSelected recipes:\")\n",
    "print(selected_recipes)\n",
    "\n",
    "print(\"\\nSelected calories:\")\n",
    "print(selected_calories)"
   ]
  }
 ],
 "metadata": {
  "kernelspec": {
   "display_name": "Python 3",
   "language": "python",
   "name": "python3"
  },
  "language_info": {
   "name": "python",
   "version": "3.12.3"
  }
 },
 "nbformat": 4,
 "nbformat_minor": 2
}
